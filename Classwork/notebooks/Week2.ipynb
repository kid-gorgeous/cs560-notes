{
 "cells": [
  {
   "cell_type": "markdown",
   "id": "0335ffd0",
   "metadata": {},
   "source": [
    "## Tuesday 1/23 - Insertion Sort, pt.1 - Week 2 Class 1:\n",
    "\n",
    "#### Elementary Sorts: \n",
    "\n",
    "#### **Card Example:**\n",
    "\n",
    "The index *j* indicates the \"current card\" being inserted into the hand. \n",
    "At the beginning of each iteration of the for loop, which is indexed by *j*, the \n",
    "subarray consisting of elements *A*[1 .. j - 1] constitutes the currently sorted hand, \n",
    "and the remaining subarray *A*[j + 1 .. *n*] corresponds to the pile of cards still on the table. In fact, elements *A*[1 .. j - 1] are the elements *originally* in position\n",
    "1 through *j* -1, but now in a sorted order. This property is known as **loop invariant**\n",
    "\n",
    "At the start of each iteration of the **for** loop of lines 1-8, the subarray *A*[1 .. *j* -1] consists of the elements originally in *A*[1 .. *j* - 1], but in sorted order\n",
    "\n",
    "#### **Loop Invariats:**\n",
    "\n",
    "Three things must hold true:\n",
    "- **Initializtion**: It is true prior to the first iteration of the loop. (*the base case*)\n",
    "- **Maintenance**: If it is true before an iteration of the loop, it remains true before the next iteration. (*the inductive step*)\n",
    "- **Termination**:  When the loop terminates, the invariant gives us a useful property that helps show that the algorithm is correct. (*the conditional step*)\n",
    "\n",
    "When the first two properties hold, the loop invariant is true prior to every iteration of the loop. Note, to prove that the property holds ture, prove the base case, and the inductive step (k-1). The third property is perhaps the most important one when using loop invariant to show correctness. Loop invariants along with conditions that will cause the termination of the loop stopping the \"induction\" when the loop terminates.\n",
    "\n",
    "#### The Insertion Sort: \n",
    "\n",
    "##### Test for Loop Invariants:\n",
    "**Initialization:**\n",
    "(*proving the base case*)\n",
    "     \n",
    "Since the loop needs at least two keys to compare, the first loop must start when *j=2* The subarray *A*[1 .. *j* - 1], therefore, consists of just the single elements *A*[1], when *j*=2. The \n",
    "\n",
    "\n",
    "\n",
    "---\n",
    "#### Python Script: "
   ]
  },
  {
   "cell_type": "code",
   "execution_count": 10,
   "id": "e60fce45",
   "metadata": {
    "scrolled": true
   },
   "outputs": [
    {
     "data": {
      "text/plain": [
       "[1, 2, 3, 4, 5, 6]"
      ]
     },
     "execution_count": 10,
     "metadata": {},
     "output_type": "execute_result"
    }
   ],
   "source": [
    "\n",
    "\n",
    "# OpenAI generated Insertion Sort\n",
    "def insertion_sort(arr): \n",
    "    n  = len(arr)\n",
    "    # start at second element\n",
    "    for i in range(1,n):\n",
    "        # set key to current element\n",
    "        key = arr[i]\n",
    "        j = i-1\n",
    "\n",
    "        # while key is smaller than the new element\n",
    "        while j >= 0 and key < arr[j]:\n",
    "            # shift element to the right\n",
    "            arr[j+1] = arr[j]\n",
    "            # decrement j\n",
    "            j -= 1\n",
    "        # the tail of the list is assigned to the last key\n",
    "        arr[j+1] = key\n",
    "    # return array\n",
    "    return arr\n",
    "\n",
    "\n",
    "\n",
    "\n",
    "# In class example of the Insertion Sort\n",
    "def in_sort(arr:list):\n",
    "    for i in range(1,len(arr)):\n",
    "        key = arr[i]\n",
    "        j = i - 1\n",
    "        while(j >= 0 and arr[j] > key):\n",
    "            arr[j+1] = arr[j]\n",
    "            j-=1\n",
    "        key = arr[j+1]\n",
    "        \n",
    "    return arr\n",
    "            \n",
    "\n",
    "    \n",
    "    \n",
    "# Test Cases\n",
    "arr = [5, 2, 4, 6, 1, 3]\n",
    "insertion_sort(arr)\n",
    "in_sort(arr)"
   ]
  },
  {
   "cell_type": "markdown",
   "id": "032eb5de",
   "metadata": {},
   "source": [
    "---"
   ]
  },
  {
   "cell_type": "markdown",
   "id": "fb6efa98",
   "metadata": {},
   "source": [
    "---"
   ]
  },
  {
   "cell_type": "markdown",
   "id": "2b164948",
   "metadata": {},
   "source": [
    "## 1/25th - Merge Sort, pt.1 - Week 2 Class 2:\n",
    "\n",
    "**Note**: call '.sort()' to sort through list similar to the insertion sort, random.shuffle function to\n",
    "shuffle a list, to reverse the list: a.reverse(), to randomly generate a string of numbers .sample()\n",
    "a.sort(), sorted(arr)\n",
    "\n",
    "**Notation**: O(n^2)\n",
    "\n",
    "**Divide and Conquer:**\n",
    "    \n",
    "This paradigm is known as Divide and Conquer involves 3 steps at each level of the reurstion:\n",
    "- **Divide**: the problem into a number of subproblems that are smaller instance of the same problem\n",
    "- **Conquer**: the subproblems by soving them recursively. If the subroblem sizes are small enough, however just solve the subproblems in a straightforward manner.\n",
    "- **Combine**: the solution to the subproblems into the solution for the problem \n",
    "\n",
    "**Merge Sort:** \n",
    "\n",
    "This sort algorithm intuitively follows this paradigm:\n",
    "- **Divide**: Divide the n-element sequence to be sorted into two subsequences of n/2 elements each.\n",
    "- **Conquer**: Sort the two subsequences recursively using merge sort.\n",
    "- **Combine**: Merge the two sorted subsequences to produce the sorted answer.\n",
    "\n",
    "The recursion \"bottoms out\" when the sequence to be sorted has length 1, in which case there is no work to be done, since every sequence of length 1 is already in sorted order.\n",
    "\n",
    "**Key**: merging of two sorted sequences in the \"combine\" step. We merge by calling an auxiliary procedure **MERGE**(A, p, q, r), where *p*, *q*, and *r* are indices in the array such that p <= q < r. \n",
    "\n",
    "**Procedure**: assuming that the subarrays single sorted subarrays *A*[p .. q] and *A*[q + 1 .. r] are in sorted order. It ***merges*** them to form a single sorted subarray that replaces the current subarray *A*[p .. r].\n",
    "\n",
    "Merge Sort procedure takes time O(n), where n = r - p + 1 is total number of elements being merged. \n",
    "\n",
    "**Question**: \n",
    "1. Why is there an extra space added in the sorted array? :  in order to equalize their length\n",
    "2. Why is the boundaries so important? : So the sort stays in the boundaries of the length of the first array\n",
    "\n",
    "---"
   ]
  },
  {
   "cell_type": "code",
   "execution_count": 5,
   "id": "f8fd78ee",
   "metadata": {},
   "outputs": [
    {
     "name": "stdout",
     "output_type": "stream",
     "text": [
      "\u001b[31mSorted array using mergeSort: \u001b[0m [4, 5, 9, 1]\n"
     ]
    }
   ],
   "source": [
    "from termcolor import colored\n",
    "import math\n",
    "\n",
    "# Merge: arr, start, middle, endoL\n",
    "# O(n)\n",
    "def merge(arr, p, q, r):\n",
    "    \n",
    "    # CREATE ARRAYS\n",
    "    left = arr[p:q]      # a slice of the arr from p to q + 1\n",
    "    right = arr[q:r + 1] # a slice of the arr from q + 1 to r + 1\n",
    "  \n",
    "    #L = arr[p:q]\n",
    "    #R = arr[q:r+1]\n",
    "    \n",
    "    # SENTINEL characters????\n",
    "    left.append(math.inf)\n",
    "    right.append(math.inf)\n",
    "    \n",
    "    # INDEX \n",
    "    i,j = 0,0\n",
    "    \n",
    "    # LOOP through the range and \"merge\" the arr\n",
    "    for k in range(p, r + 1):\n",
    "        if(left[i] <= right[j]):\n",
    "            arr[k] = left[i]\n",
    "            i += 1\n",
    "        else:\n",
    "            arr[k] = right[j]\n",
    "            j += 1\n",
    "    \n",
    "    \n",
    "# Merge Sort: arr, start, EOL\n",
    "# O(n log n)\n",
    "def mergeSort(arr, p, r):\n",
    "    if(p < r):\n",
    "        q = (p+r) // 2         # this is the reason it is considered O(n log n)\n",
    "        mergeSort(arr, p, q)   # aT(n/b)\n",
    "        mergeSort(arr, q+1, r) # D(n)\n",
    "        merge(arr, p, q, r)    # C(n)\n",
    "    \n",
    "\n",
    "\n",
    "# Implementation of the Merge Sort:\n",
    "\n",
    "arr = [5,4,9,1]\n",
    "mergeSort(arr,0, len(arr)-1) # notice: -1\n",
    "print(colored(\"Sorted array using mergeSort: \", \"red\"),arr)\n"
   ]
  },
  {
   "cell_type": "code",
   "execution_count": null,
   "id": "64ded8c4",
   "metadata": {},
   "outputs": [],
   "source": [
    "# this function will run at worst O(n) because of the ranged for loop\n",
    "#  that runs in linear time.\n",
    "# \n",
    "# params: array, the start, middle, and tail of the array\n",
    "\n",
    "def merge(arr, p, q, r):\n",
    "    L = arr[p:q]\n",
    "    R = arr[p:r+1]\n",
    "    L.append(math.inf)\n",
    "    R.append(math.inf)\n",
    "    \n",
    "    i, j = 0, 0\n",
    "    # this actually holds the core sort in for the \n",
    "    for k in range(p,r+1):      # ranged loop from start to the last line, sent. included\n",
    "        if L[i] <= R[j]:        # check it from left\n",
    "            arr[k] = L[i]       # copy left\n",
    "            i+=1                # iterate i\n",
    "        else:\n",
    "            arr[k] = R[i]       # copy right\n",
    "            j+=1                # iterate j\n",
    "            \n",
    "    # end of function: returns no value\n",
    "    \n",
    "# this function will run at worst O(n * lg(n)); because it holds that while q represents\n",
    "#  where the input array was sliced at.\n",
    "#\n",
    "# params: array, the start, and tail\n",
    "# \n",
    "# Initialization: Prior to the \n",
    "# Maintenance: To see that each iteration holds prior to the next call, it must hold that q is less than or equal to \n",
    "#  the position of the tail of the array, the middle of the array is \n",
    "#   found, and \n",
    "def mergeSort(arr, p, r):\n",
    "    if p < r:                   # is the curr head and the curr tail\n",
    "        q = (p+r) // 2          # compute the middle\n",
    "        mergeSort(arr, p, q)    # slice on Left\n",
    "        mergeSort(arr, q + 1,r) # slice on Right\n",
    "        merge(arr, p, q, r)     # call merge()\n",
    "    "
   ]
  },
  {
   "cell_type": "markdown",
   "id": "b0ba5b63",
   "metadata": {},
   "source": [
    "---"
   ]
  },
  {
   "cell_type": "markdown",
   "id": "4746a09a",
   "metadata": {},
   "source": [
    "First week done."
   ]
  }
 ],
 "metadata": {
  "kernelspec": {
   "display_name": "Python 3 (ipykernel)",
   "language": "python",
   "name": "python3"
  },
  "language_info": {
   "codemirror_mode": {
    "name": "ipython",
    "version": 3
   },
   "file_extension": ".py",
   "mimetype": "text/x-python",
   "name": "python",
   "nbconvert_exporter": "python",
   "pygments_lexer": "ipython3",
   "version": "3.10.9"
  },
  "vscode": {
   "interpreter": {
    "hash": "31f2aee4e71d21fbe5cf8b01ff0e069b9275f58929596ceb00d14d90e3e16cd6"
   }
  }
 },
 "nbformat": 4,
 "nbformat_minor": 5
}
