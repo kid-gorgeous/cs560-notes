{
 "cells": [
  {
   "cell_type": "markdown",
   "id": "274610f7",
   "metadata": {},
   "source": [
    "### CS560 HW 3: Maximum-Subarray Problem\n",
    "---\n"
   ]
  },
  {
   "cell_type": "markdown",
   "id": "20389859",
   "metadata": {},
   "source": [
    "#### Question 1:\n",
    "\n",
    "Develop a python function to solve textbook (CLRS) Exercise 4.1-5:\n",
    "\n",
    "Use the following ideas to develop a non-recursive, linear-time algorithm for the maximum-subarray problem. \n",
    "- Start at the left end of the array, and progress toward the right, keeping track of the maximum subarray seen so far. \n",
    "- A maximum subarray of A[ 1 .. *j* ], extend the answer to find a maximum subarray ending at index j + 1 by using the following observation: \n",
    "    - a maximum subarray of A[ 1 .. *j* + 1] is either a maximum subarray of A[ 1 .. *j* ] \n",
    "    - or a subarray A[ i .. *j* + 1] is either a maximum subarray of A[ 1 .. *j* ] or a subarray A[ i .. *j* + 1], for some $1\\leq i \\leq j + 1$. \n",
    "    \n",
    "Determine a maximum subarray of form A[ i .. *j* + 1] in constant time based on knowing a maximum subarray ending at index j. \n",
    "\n",
    "\n"
   ]
  },
  {
   "cell_type": "code",
   "execution_count": 4,
   "id": "abbe1151",
   "metadata": {},
   "outputs": [
    {
     "data": {
      "text/plain": [
       "50"
      ]
     },
     "execution_count": 4,
     "metadata": {},
     "output_type": "execute_result"
    }
   ],
   "source": [
    "arr = [14,6,-4,5,9,0,13,21]\n",
    "n = len(arr)\n",
    "\n",
    "def maximumSubarray(arr: list, n: int) -> list:\n",
    "    # initialize the max sum of the array\n",
    "    maxSum = 0\n",
    "    currentMax = 0\n",
    "    for i in range(1,n):\n",
    "        currentMax = max(arr[i], currentMax + arr[i])\n",
    "        maxSum = max(maxSum, currentMax)\n",
    "        \n",
    "    return maxSum \n",
    "\n",
    "maximumSubarray(arr,n)"
   ]
  },
  {
   "cell_type": "markdown",
   "id": "dcfa7389",
   "metadata": {},
   "source": [
    "#### Question 2:\n",
    "\n",
    "CLRS Exercise 4.5-1: use the master method to give tight asymptotic bounds for the folloing recurrences.\n",
    "\n",
    "- $T(n) = 2T(n/4) + 1$\n",
    "    - we have a = 2, b = 4, and f(n) = 1\n",
    "    - thus, we have that $1^{log_{b}a} = 1^{log_{4}2} = \\Theta(1)$\n",
    "\n",
    "- $T(n) = 2T(n/4) + \\sqrt{n}$\n",
    "    - we have a = 2, b = 4, f(n) = $\\sqrt{n}$\n",
    "    - thus, we have that $\\sqrt{n}^{log_{b}a} = \\sqrt{n}^{log_{4}2} = \\Theta(\\sqrt{n}^{\\frac{1}{2}})$\n",
    "    \n",
    "- $T(n) = 2T(n/4) + n$\n",
    "    - we have a = 2, b = 4, f(n) = n\n",
    "    - thus, we have that $n^{log_{b}a} = n^{log_{4}2} = \\Theta(n^{2})$\n",
    "    \n",
    "- $T(n) = 2T(n/4) + n^{2}$\n",
    "    - we have a = 2, b = 4, f(n) = $n^{2}$\n",
    "    - thus we have $(n^{2})^{log_{b}a} = (n^2)^{log_{4}2} = \\Theta(n)$"
   ]
  },
  {
   "cell_type": "markdown",
   "id": "b96042c3",
   "metadata": {},
   "source": [
    "### Question 3\n",
    "---\n",
    "\n",
    "CLRS Exercise 4.5-3: Use the master method to show that the solution to the binary-search recurrence\n",
    "- $T(n) = T(n/2) + \\Theta(1) = \\Theta(lg(n))$.\n",
    "\n",
    "If a = 1, b = 2, and $\\Theta(1)$, we have that $1^{log_{b}a} = 1^{log_{4}2} = \\Theta(1)$\n",
    "\n",
    "If $f(n) = \\Theta(1^{log_{2}1})$, then $T(n) = \\Theta(1^{log_{2}1}lg(n))$\n",
    "\n",
    "Since, $\\Theta(1^{log_{2}1}) = 1$, then $T(n) = \\Theta(1 * lg(n)) = \\Theta(lg(n))$\n",
    "\n"
   ]
  }
 ],
 "metadata": {
  "kernelspec": {
   "display_name": "Python 3 (ipykernel)",
   "language": "python",
   "name": "python3"
  },
  "language_info": {
   "codemirror_mode": {
    "name": "ipython",
    "version": 3
   },
   "file_extension": ".py",
   "mimetype": "text/x-python",
   "name": "python",
   "nbconvert_exporter": "python",
   "pygments_lexer": "ipython3",
   "version": "3.11.2"
  }
 },
 "nbformat": 4,
 "nbformat_minor": 5
}
