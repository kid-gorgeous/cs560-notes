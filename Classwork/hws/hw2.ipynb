{
 "cells": [
  {
   "cell_type": "code",
   "execution_count": 18,
   "id": "6987fb10",
   "metadata": {},
   "outputs": [],
   "source": [
    "# HW2\n",
    "# Evan Julius\n",
    "# G939M582\n",
    "\n",
    "# Note: Please import the following modules\n",
    "import time # import this module to allow for .time() to be used\n",
    "import matplotlib.pyplot as plt # import pyplot from matplotlib\n",
    "import numpy as np # numpy allows for easy data manipulation, and .arange()"
   ]
  },
  {
   "cell_type": "markdown",
   "id": "6ea24ecc",
   "metadata": {},
   "source": [
    "## Question 1:\n",
    "\n",
    "Let *f(n)* and *g(n)* be asymptotically nonegative functions. Using the basic definition of $\\Theta$-notation, prove that **max**(*f(n)*, *g(n)*) = $\\Theta$(*f(n)* + *g(n)*) "
   ]
  },
  {
   "cell_type": "markdown",
   "id": "c8224d6a",
   "metadata": {},
   "source": [
    "Let *h(n)* = f(n) + g(n)\n",
    "\n",
    "The boundaries of $\\Theta$ is considered:\n",
    "- 0 $\\leq c1*h(n) \\leq max(f, g) \\leq c2 * h(n)$ when $ n \\geq n0$\n",
    "\n",
    "The boundaries of the following functions are:\n",
    "- f(n) $\\leq$ **max**(*f(n)*, *g(n)*)\n",
    "- g(n) $\\leq$ **max**(*f(n)*, *g(n)*)\n",
    "\n",
    "By adding both the functions together, the following can be written:\n",
    "\n",
    "- f(n) + g(n) $\\leq$ 2 * max(f(n), g(n)) \n",
    "\n",
    "or,\n",
    "\n",
    "- $\\frac{(fn + gn)}{2} \\leq$ max(*f(n)*, *g(n)*)\n"
   ]
  },
  {
   "cell_type": "markdown",
   "id": "410ca7b1",
   "metadata": {},
   "source": [
    "--- \n",
    "\n",
    "## Question 2\n"
   ]
  },
  {
   "cell_type": "markdown",
   "id": "7e97acb8",
   "metadata": {},
   "source": [
    "\n",
    "Use Big Oh's definition to prove that fn = n\\*n + 10n + 101 = O(n\\*n)\n",
    "\n",
    "\n",
    "By reason, it can be notice that both equations have a leading term of $n^{2}$. With the addition of the terms, 10n, and 101, it can be reasoning that the overall value will be greater than $n^{2}$. Therefore, it can be concluded that the upper bound of the function has a growth rate of O($n^{2}$).\n",
    "\n",
    "---\n",
    "\n",
    "By using plotly; the difference can be seen:"
   ]
  },
  {
   "cell_type": "code",
   "execution_count": 1,
   "id": "e2cedc47",
   "metadata": {
    "scrolled": true
   },
   "outputs": [
    {
     "data": {
      "image/png": "[encoded data removed]",
      "text/plain": [
       "<Figure size 640x480 with 1 Axes>"
      ]
     },
     "metadata": {},
     "output_type": "display_data"
    }
   ],
   "source": [
    "t=np.arange(0.,30.,0.5)\n",
    "\n",
    "# evenly sampled time a\n",
    "plt.plot(t,t*t,\"r\", t, t*t+10*t+101, 'b^')\n",
    "plt.show()"
   ]
  },
  {
   "cell_type": "markdown",
   "id": "703af42e",
   "metadata": {},
   "source": [
    "---\n",
    "\n",
    "## Question 3: \n",
    "\n",
    "Improve the following function so the time complecity will be reduced from O($n^{3}$) to O($n^{2}$)\n",
    "\n",
    "First, observe the following function, and notice the summation in the if-condition. It creates another running time of O(n). It is within a nested loop of O(n). The outer loop is also a linear loop of O(n) time. This creates a running time algorithm of O(n\\*n\\*n)"
   ]
  },
  {
   "cell_type": "code",
   "execution_count": 20,
   "id": "180fb488",
   "metadata": {},
   "outputs": [
    {
     "name": "stdout",
     "output_type": "stream",
     "text": [
      "With a total running time of:  0.00023174285888671875  seconds\n"
     ]
    }
   ],
   "source": [
    "start = time.time()\n",
    "def naiveMaxSubarray(arr:list)-> list:\n",
    "    currentMax = arr[0]\n",
    "    i_max, j_max = 0,0\n",
    "    \n",
    "    for i in range(len(arr)):\n",
    "        for j in range(i,len(arr)):    \n",
    "            if sum(arr[i:j])> currentMax:\n",
    "                currentMax = sum(arr[i:j])\n",
    "                i_max, j_max = i, j\n",
    "                \n",
    "    return [i_max, j_max-1]\n",
    "end = time.time()\n",
    "\n",
    "arr = [13,-3,-25,20,-3,-16,-23,18,20,-7,12,-5,-22,15,-4,7]\n",
    "naiveRunningTime = end - start\n",
    "naiveMaxSubarray(arr)\n",
    "print(\"With a total running time of: \", naiveRunningTime, \" seconds\")"
   ]
  },
  {
   "cell_type": "markdown",
   "id": "f8e9e687",
   "metadata": {},
   "source": [
    "---\n",
    "\n",
    "### Solution:\n",
    "\n",
    "To note.. I wanted to figure this problem out. After Quiz 1 I felt inspired to answer this correctly.(?) I used OpenAI to help answer the following questions pertaining to this question.\n",
    "\n",
    "**Q**: What does O($n^{3}$) mean?\n",
    "\n",
    "*A*: (Paraphrased..) It means that its running time grows as the cube of the size of the input. This meant that if the input size *n* of the input grows *n* to 2*n*, where the number of operations required by the algorithm will increase by a factor of 8. And, is commonly involves nested loops, where each iteration of the *inner-most* loop takes a constant of O(n) time, or *linear-time*\n",
    "\n",
    "**Q**: What wouId a quick example of an algorithm with time complexity of O(n^3)?\n",
    "\n",
    "*A*: An example would have three nested loops, each iterating *n* times. The number of operations performed by this will grow as the cube of *n*. Thus, for when *n = 10*, the algorithm performs \n",
    "\n",
    "**Q**: Ways to reduce a running time of an algorithm?\n",
    "\n",
    "*A*: Optimization, Parallel Processing, Pre-Processing, Specialized Tools"
   ]
  },
  {
   "cell_type": "markdown",
   "id": "7e2ba9fa",
   "metadata": {},
   "source": [
    "---\n",
    "\n",
    "As a way of accompanying the parallelism of the Divide and Conquer algorithm, the summation of the maxSubarray can be moved outside of the nested loops to reduce the amount of time the total summation must be calculated. \n",
    "\n",
    "By introducing an index for the '*rolling*'-sum of the array, the running time can be reduced from O($n^{3}$) to O($n^{2}$).\n",
    "\n",
    "---\n",
    "\n"
   ]
  },
  {
   "cell_type": "code",
   "execution_count": 19,
   "id": "cc0a0dc7",
   "metadata": {},
   "outputs": [
    {
     "name": "stdout",
     "output_type": "stream",
     "text": [
      "With a total running time of:  0.0001919269561767578  seconds\n"
     ]
    }
   ],
   "source": [
    "start = time.time()\n",
    "def newMaxSubarray(arr:list)-> list:\n",
    "    currentMax = arr[0]\n",
    "    i_max, j_max = 0,0\n",
    "    rolling_sum = 0\n",
    "    \n",
    "    for i in range(len(arr)):\n",
    "        rolling_sum = 0\n",
    "        for j in range(i,len(arr)): \n",
    "            \n",
    "            # A new number is added to the rolling sum\n",
    "            rolling_sum += arr[j]\n",
    "            \n",
    "            # the new rolling sum is compared to the currentMax\n",
    "            if rolling_sum > currentMax:\n",
    "                \n",
    "                # if larger, the currentMax is valued by new summation\n",
    "                currentMax = rolling_sum\n",
    "                i_max, j_max = i, j\n",
    "                \n",
    "    return [i_max, j_max-1]\n",
    "end = time.time()\n",
    "\n",
    "arr = [13,-3,-25,20,-3,-16,-23,18,20,-7,12,-5,-22,15,-4,7]\n",
    "newRunningTime = end - start\n",
    "newMaxSubarray(arr)\n",
    "print(\"With a total running time of: \", newRunningTime, \" seconds\")"
   ]
  }
 ],
 "metadata": {
  "kernelspec": {
   "display_name": "Python 3 (ipykernel)",
   "language": "python",
   "name": "python3"
  },
  "language_info": {
   "codemirror_mode": {
    "name": "ipython",
    "version": 3
   },
   "file_extension": ".py",
   "mimetype": "text/x-python",
   "name": "python",
   "nbconvert_exporter": "python",
   "pygments_lexer": "ipython3",
   "version": "3.10.9"
  }
 },
 "nbformat": 4,
 "nbformat_minor": 5
}
